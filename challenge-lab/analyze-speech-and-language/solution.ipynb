{
 "cells": [
  {
   "cell_type": "markdown",
   "metadata": {},
   "source": [
    "### Create an API key for `google.cloud.language_v1`"
   ]
  },
  {
   "cell_type": "markdown",
   "metadata": {},
   "source": [
    "1. First, you will set an environment variable with your PROJECT_ID which you will use throughout this lab:"
   ]
  },
  {
   "cell_type": "code",
   "execution_count": null,
   "metadata": {},
   "outputs": [],
   "source": [
    "%%bash\n",
    "\n",
    "export GOOGLE_CLOUD_PROJECT=$(gcloud config get-value core/project)"
   ]
  },
  {
   "cell_type": "markdown",
   "metadata": {},
   "source": [
    "2. Next, create a new service account to access the API:"
   ]
  },
  {
   "cell_type": "code",
   "execution_count": null,
   "metadata": {},
   "outputs": [],
   "source": [
    "%%bash\n",
    "\n",
    "gcloud iam service-accounts create my-service \\\n",
    "  --display-name \"my service account\""
   ]
  },
  {
   "cell_type": "markdown",
   "metadata": {},
   "source": [
    "3. Then, create credentials to log in as your new service account. Create these credentials and save it as a JSON file \"~/key.json\" by using the following command:"
   ]
  },
  {
   "cell_type": "code",
   "execution_count": null,
   "metadata": {},
   "outputs": [],
   "source": [
    "%%bash \n",
    "\n",
    "gcloud iam service-accounts keys create ~/key.json \\\n",
    "  --iam-account my-service@${GOOGLE_CLOUD_PROJECT}.iam.gserviceaccount.com"
   ]
  },
  {
   "cell_type": "markdown",
   "metadata": {},
   "source": [
    "4. Finally, set the GOOGLE_APPLICATION_CREDENTIALS environment variable. The environment variable should be set to the full path of the credentials JSON file you created, which you can see in the output from the previous command:"
   ]
  },
  {
   "cell_type": "code",
   "execution_count": null,
   "metadata": {},
   "outputs": [],
   "source": [
    "%%bash\n",
    "\n",
    "export GOOGLE_APPLICATION_CREDENTIALS=key.json"
   ]
  },
  {
   "cell_type": "markdown",
   "metadata": {},
   "source": [
    "5. Verify that `GOOGLE_APPLICATION_CREDENTIALS` variable exists"
   ]
  },
  {
   "cell_type": "code",
   "execution_count": null,
   "metadata": {},
   "outputs": [],
   "source": [
    "%%bash\n",
    "\n",
    "cat $GOOGLE_APPLICATION_CREDENTIALS"
   ]
  },
  {
   "cell_type": "markdown",
   "metadata": {},
   "source": [
    "### Create an API key for Speech-to-Text and Natural Language\n",
    "\n",
    "1. To create an API key, in the Cloud Console, select Navigation menu > APIs & Services > Credentials.\n",
    "\n",
    "2. Click Create credentials and select API key.\n",
    "\n",
    "3. Copy the generated API key and click Close.\n",
    "\n",
    "4. Create an `API_KEY` variable"
   ]
  },
  {
   "cell_type": "code",
   "execution_count": null,
   "metadata": {},
   "outputs": [],
   "source": [
    "%%bash\n",
    "\n",
    "export API_KEY=<your-api-key>"
   ]
  },
  {
   "cell_type": "markdown",
   "metadata": {},
   "source": [
    "### Entity Analysis Response\n",
    "\n",
    "Call the Natural Language API with `analyszeEntities`"
   ]
  },
  {
   "cell_type": "code",
   "execution_count": null,
   "metadata": {},
   "outputs": [],
   "source": [
    "%%bash\n",
    "\n",
    "curl \"https://language.googleapis.com/v1/documents:analyzeEntities?key=${API_KEY}\" \\\n",
    "  -s -X POST -H \"Content-Type: application/json\" --data-binary @nl_request.json > nl_response.json"
   ]
  },
  {
   "cell_type": "markdown",
   "metadata": {},
   "source": [
    "Verify the response is correct"
   ]
  },
  {
   "cell_type": "code",
   "execution_count": null,
   "metadata": {},
   "outputs": [],
   "source": [
    "%%bash\n",
    "\n",
    "cat nl_response.json"
   ]
  },
  {
   "cell_type": "markdown",
   "metadata": {},
   "source": [
    "### Speech Analysis Response\n",
    "\n",
    "Call the Speech-to-Text API"
   ]
  },
  {
   "cell_type": "code",
   "execution_count": null,
   "metadata": {},
   "outputs": [],
   "source": [
    "%%bash\n",
    "\n",
    "curl -s -X POST -H \"Content-Type: application/json\" --data-binary @speech_request.json \\\n",
    "\"https://speech.googleapis.com/v1/speech:recognize?key=${API_KEY}\" > speech_response.json"
   ]
  },
  {
   "cell_type": "markdown",
   "metadata": {},
   "source": [
    "Verify the response is correct"
   ]
  },
  {
   "cell_type": "code",
   "execution_count": null,
   "metadata": {},
   "outputs": [],
   "source": [
    "%%bash\n",
    "\n",
    "cat speech_response.json"
   ]
  },
  {
   "cell_type": "markdown",
   "metadata": {},
   "source": [
    "### Run Sentiment Analysis pipeline"
   ]
  },
  {
   "cell_type": "markdown",
   "metadata": {},
   "source": [
    "Install `google-cloud-language` package"
   ]
  },
  {
   "cell_type": "code",
   "execution_count": null,
   "metadata": {},
   "outputs": [],
   "source": [
    "%%bash\n",
    "\n",
    "pip install --upgrade google-cloud-language"
   ]
  },
  {
   "cell_type": "code",
   "execution_count": null,
   "metadata": {},
   "outputs": [],
   "source": [
    "%%bash\n",
    "\n",
    "python3 ./sentiment_analysis.py ./request.txt"
   ]
  },
  {
   "cell_type": "markdown",
   "metadata": {},
   "source": [
    "You should get the response as follows, do not panic if your values are different from mine\n",
    "\n",
    "```text\n",
    "Sentence 0 has a sentiment score of 0.699999988079071\n",
    "Sentence 1 has a sentiment score of 0.20000000298023224\n",
    "Sentence 2 has a sentiment score of 0.699999988079071\n",
    "Sentence 3 has a sentiment score of -0.10000000149011612\n",
    "Sentence 4 has a sentiment score of 0.0\n",
    "Sentence 5 has a sentiment score of -0.6000000238418579\n",
    "Sentence 6 has a sentiment score of -0.10000000149011612\n",
    "Sentence 7 has a sentiment score of 0.5\n",
    "Sentence 8 has a sentiment score of 0.4000000059604645\n",
    "Sentence 9 has a sentiment score of 0.8999999761581421\n",
    "Overall Sentiment: score of 0.20000000298023224 with magnitude of 4.599999904632568\n",
    "```"
   ]
  }
 ],
 "metadata": {
  "language_info": {
   "name": "python"
  }
 },
 "nbformat": 4,
 "nbformat_minor": 2
}
